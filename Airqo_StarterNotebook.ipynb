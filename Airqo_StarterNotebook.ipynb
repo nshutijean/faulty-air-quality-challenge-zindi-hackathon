{
 "cells": [
  {
   "cell_type": "markdown",
   "metadata": {
    "cell_id": "56c5211b-bb5d-49e8-b101-f68c37f001c1",
    "deepnote_cell_height": 1164.4000244140625,
    "deepnote_cell_type": "markdown",
    "id": "UTZATqKuzQud"
   },
   "source": [
    "<h2><center> Welcome to the Faulty Air-Quality Sensor Challenge</h2></center>\n",
    "<figure>\n",
    "<center><img src =\"https://drive.google.com/uc?export=view&id=1hSOAfRhJ_jo-MZAjq81VYJu5bZNL7EjD\" width = \"800\" height = '500'/>\n",
    "\n",
    "*About the problem*\n",
    "> AirQo’s air quality sensing network has more than 120 low-cost devices deployed across Uganda; in most cases, these devices are deployed in unmonitored or perilous environments. These low-cost electronic devices are susceptible to breakdown caused by communication malfunction, aging, wear and tear, manufacturing deficiencies, incorrect calibration, mishandling and other external environmental factors. Faults lead to data inaccuracies and data loss, which impacts decisions and policies that could significantly impact people’s lives. \n",
    "\n",
    "*Objective of this challenge*\n",
    "> In this challenge, your task is to develop a binary clasification model to identify faulty sensors, regardless of the device type. The model will be used by AirQo to automatically flag devices that have faulty readings. \n",
    "\n",
    "Device failure detection and monitoring is critical to AirQo’s work; faulty devices need to be identified, isolated and fixed or replaced with urgency\n",
    "\n"
   ]
  },
  {
   "cell_type": "markdown",
   "metadata": {
    "cell_id": "00001-ec0ec688-b8c9-4b28-8377-d2ca8ebd0ef3",
    "deepnote_cell_height": 401.79998779296875,
    "deepnote_cell_type": "markdown",
    "id": "TNwjd3IWlgxc"
   },
   "source": [
    "## Table of contents:\n",
    "\n",
    "1. [Importing libraries](#Libraries)\n",
    "2. [Loading data](#Data)\n",
    "3. [Statistical summaries](#Statistics)\n",
    "4. [Missing values and duplicates](#Missing)\n",
    "5. [Outliers](#Outliers)\n",
    "6. [Feature engineering](#Engineering)\n",
    "7. [Date features EDA](#Dates)\n",
    "8. [Correlations - EDA](#Correlations)\n",
    "9. [Preprocess test dataset](#Preprocess)\n",
    "10. [Modelling](#Modelling)\n",
    "11. [Making predictions of the test set and creating a submission file](#Predictions)\n",
    "12. [TO DOs](#Tips)"
   ]
  },
  {
   "cell_type": "markdown",
   "metadata": {
    "cell_id": "00002-3c13bc23-41fc-4087-af31-9b6408b2899f",
    "deepnote_cell_height": 84,
    "deepnote_cell_type": "markdown",
    "id": "I8Kdz7a25j4P"
   },
   "source": [
    "<a name=\"Libraries\"></a>\n",
    "## 1. Importing libraries\n"
   ]
  },
  {
   "cell_type": "code",
   "execution_count": 2,
   "metadata": {
    "cell_id": "00003-abb8803b-5454-4a09-8aae-fdbf3cfcb5d7",
    "deepnote_cell_height": 621.2000122070312,
    "deepnote_cell_type": "code",
    "deepnote_to_be_reexecuted": false,
    "execution_millis": 2178,
    "execution_start": 1647712261662,
    "id": "GJvGrR3AXhny",
    "source_hash": "69119708"
   },
   "outputs": [],
   "source": [
    "# Import libraries\n",
    "import pandas as pd\n",
    "import numpy as np\n",
    "import matplotlib.pyplot as plt\n",
    "import seaborn as sns\n",
    "from sklearn.ensemble import RandomForestClassifier\n",
    "from sklearn.model_selection import train_test_split\n",
    "from sklearn.metrics import accuracy_score, confusion_matrix, classification_report, ConfusionMatrixDisplay\n",
    "pd.options.display.float_format = '{:.5f}'.format\n",
    "\n",
    "# CatBoost\n",
    "from catboost import CatBoostClassifier\n",
    "\n",
    "# LightGBM\n",
    "# from lightgbm import LGBMClassifier\n",
    "\n",
    "# SMOTE\n",
    "from imblearn.over_sampling import SMOTE\n",
    "\n",
    "# Logistic Regression\n",
    "from sklearn.linear_model import LogisticRegression\n",
    "\n",
    "import lightgbm as lgb\n",
    "from sklearn.model_selection import RandomizedSearchCV, GridSearchCV\n",
    "from sklearn.ensemble import AdaBoostClassifier #For Classification\n",
    "from sklearn.tree import DecisionTreeClassifier\n",
    "\n",
    "%matplotlib inline\n",
    "import warnings\n",
    "warnings.filterwarnings('ignore')"
   ]
  },
  {
   "cell_type": "markdown",
   "metadata": {
    "cell_id": "00004-72cd4999-9168-4d8a-b2bf-f2d1dfd4a48c",
    "deepnote_cell_height": 84,
    "deepnote_cell_type": "markdown",
    "id": "ro-KRpqn5pbB"
   },
   "source": [
    "<a name=\"Data\"></a>\n",
    "## 2. Loading data"
   ]
  },
  {
   "cell_type": "code",
   "execution_count": 3,
   "metadata": {
    "cell_id": "00005-f33c911f-675a-41fa-bfa0-9dd021d9e234",
    "colab": {
     "base_uri": "https://localhost:8080/",
     "height": 206
    },
    "deepnote_cell_height": 399,
    "deepnote_cell_type": "code",
    "deepnote_output_heights": [
     194
    ],
    "deepnote_to_be_reexecuted": true,
    "id": "V54N2h-CXzmI",
    "outputId": "45980b4c-3fd5-428e-86ae-0ec1bf374d3e",
    "source_hash": "d909e60a"
   },
   "outputs": [
    {
     "data": {
      "text/html": [
       "<div>\n",
       "<style scoped>\n",
       "    .dataframe tbody tr th:only-of-type {\n",
       "        vertical-align: middle;\n",
       "    }\n",
       "\n",
       "    .dataframe tbody tr th {\n",
       "        vertical-align: top;\n",
       "    }\n",
       "\n",
       "    .dataframe thead th {\n",
       "        text-align: right;\n",
       "    }\n",
       "</style>\n",
       "<table border=\"1\" class=\"dataframe\">\n",
       "  <thead>\n",
       "    <tr style=\"text-align: right;\">\n",
       "      <th></th>\n",
       "      <th>ID</th>\n",
       "      <th>Datetime</th>\n",
       "      <th>Sensor1_PM2.5</th>\n",
       "      <th>Sensor2_PM2.5</th>\n",
       "      <th>Temperature</th>\n",
       "      <th>Relative_Humidity</th>\n",
       "      <th>Offset_fault</th>\n",
       "    </tr>\n",
       "  </thead>\n",
       "  <tbody>\n",
       "    <tr>\n",
       "      <th>0</th>\n",
       "      <td>ID_QF0ZTQJ2SF5Q</td>\n",
       "      <td>2021-11-03 04:06:31</td>\n",
       "      <td>52.58000</td>\n",
       "      <td>49.52000</td>\n",
       "      <td>17.40000</td>\n",
       "      <td>96.00000</td>\n",
       "      <td>0</td>\n",
       "    </tr>\n",
       "    <tr>\n",
       "      <th>1</th>\n",
       "      <td>ID_4GTK689CNX5S</td>\n",
       "      <td>2021-11-08 18:43:23</td>\n",
       "      <td>35.25000</td>\n",
       "      <td>33.40000</td>\n",
       "      <td>25.00000</td>\n",
       "      <td>75.00000</td>\n",
       "      <td>0</td>\n",
       "    </tr>\n",
       "    <tr>\n",
       "      <th>2</th>\n",
       "      <td>ID_DL7VVKW9U7XQ</td>\n",
       "      <td>2021-11-07 09:50:33</td>\n",
       "      <td>19.18000</td>\n",
       "      <td>23.50000</td>\n",
       "      <td>24.90000</td>\n",
       "      <td>75.00000</td>\n",
       "      <td>0</td>\n",
       "    </tr>\n",
       "    <tr>\n",
       "      <th>3</th>\n",
       "      <td>ID_6XQOMBXM2DG3</td>\n",
       "      <td>2022-01-01 18:55:15</td>\n",
       "      <td>19.40000</td>\n",
       "      <td>15.48000</td>\n",
       "      <td>24.90000</td>\n",
       "      <td>70.00000</td>\n",
       "      <td>0</td>\n",
       "    </tr>\n",
       "    <tr>\n",
       "      <th>4</th>\n",
       "      <td>ID_UQZW9ISJY9QE</td>\n",
       "      <td>2021-11-05 22:23:48</td>\n",
       "      <td>38.30000</td>\n",
       "      <td>34.77000</td>\n",
       "      <td>20.90000</td>\n",
       "      <td>89.00000</td>\n",
       "      <td>0</td>\n",
       "    </tr>\n",
       "  </tbody>\n",
       "</table>\n",
       "</div>"
      ],
      "text/plain": [
       "                ID            Datetime  Sensor1_PM2.5  Sensor2_PM2.5  \\\n",
       "0  ID_QF0ZTQJ2SF5Q 2021-11-03 04:06:31       52.58000       49.52000   \n",
       "1  ID_4GTK689CNX5S 2021-11-08 18:43:23       35.25000       33.40000   \n",
       "2  ID_DL7VVKW9U7XQ 2021-11-07 09:50:33       19.18000       23.50000   \n",
       "3  ID_6XQOMBXM2DG3 2022-01-01 18:55:15       19.40000       15.48000   \n",
       "4  ID_UQZW9ISJY9QE 2021-11-05 22:23:48       38.30000       34.77000   \n",
       "\n",
       "   Temperature  Relative_Humidity  Offset_fault  \n",
       "0     17.40000           96.00000             0  \n",
       "1     25.00000           75.00000             0  \n",
       "2     24.90000           75.00000             0  \n",
       "3     24.90000           70.00000             0  \n",
       "4     20.90000           89.00000             0  "
      ]
     },
     "execution_count": 3,
     "metadata": {},
     "output_type": "execute_result"
    }
   ],
   "source": [
    "# Load files\n",
    "train = pd.read_csv('datasets/train.csv', parse_dates = ['Datetime'])\n",
    "test = pd.read_csv('datasets/test.csv', parse_dates = ['Datetime'])\n",
    "samplesubmission = pd.read_csv('datasets/SampleSubmission.csv')\n",
    "\n",
    "# Preview train dataset\n",
    "train.head()"
   ]
  },
  {
   "cell_type": "code",
   "execution_count": 4,
   "metadata": {
    "cell_id": "00006-9b6c76e5-f152-41d1-b267-33bae6fea9b8",
    "colab": {
     "base_uri": "https://localhost:8080/",
     "height": 206
    },
    "deepnote_cell_height": 309,
    "deepnote_cell_type": "code",
    "deepnote_output_heights": [
     194
    ],
    "deepnote_to_be_reexecuted": true,
    "id": "SPMVj-JXXzh-",
    "outputId": "0b5fe486-ed69-4c31-b51d-97cfcf065d9d",
    "source_hash": "8d399e66"
   },
   "outputs": [
    {
     "data": {
      "text/html": [
       "<div>\n",
       "<style scoped>\n",
       "    .dataframe tbody tr th:only-of-type {\n",
       "        vertical-align: middle;\n",
       "    }\n",
       "\n",
       "    .dataframe tbody tr th {\n",
       "        vertical-align: top;\n",
       "    }\n",
       "\n",
       "    .dataframe thead th {\n",
       "        text-align: right;\n",
       "    }\n",
       "</style>\n",
       "<table border=\"1\" class=\"dataframe\">\n",
       "  <thead>\n",
       "    <tr style=\"text-align: right;\">\n",
       "      <th></th>\n",
       "      <th>ID</th>\n",
       "      <th>Datetime</th>\n",
       "      <th>Sensor1_PM2.5</th>\n",
       "      <th>Sensor2_PM2.5</th>\n",
       "      <th>Temperature</th>\n",
       "      <th>Relative_Humidity</th>\n",
       "    </tr>\n",
       "  </thead>\n",
       "  <tbody>\n",
       "    <tr>\n",
       "      <th>0</th>\n",
       "      <td>ID_STL3V9B2OU12</td>\n",
       "      <td>2022-01-28 08:49:41</td>\n",
       "      <td>90.75000</td>\n",
       "      <td>114.78000</td>\n",
       "      <td>22.20000</td>\n",
       "      <td>56.00000</td>\n",
       "    </tr>\n",
       "    <tr>\n",
       "      <th>1</th>\n",
       "      <td>ID_U2EKAY4SGA94</td>\n",
       "      <td>2022-02-16 21:30:17</td>\n",
       "      <td>56.03000</td>\n",
       "      <td>52.18000</td>\n",
       "      <td>NaN</td>\n",
       "      <td>NaN</td>\n",
       "    </tr>\n",
       "    <tr>\n",
       "      <th>2</th>\n",
       "      <td>ID_UJFLEWQR0U4N</td>\n",
       "      <td>2022-01-24 17:57:18</td>\n",
       "      <td>387.35000</td>\n",
       "      <td>346.73000</td>\n",
       "      <td>28.10000</td>\n",
       "      <td>63.00000</td>\n",
       "    </tr>\n",
       "    <tr>\n",
       "      <th>3</th>\n",
       "      <td>ID_S2C2GPGA4R5I</td>\n",
       "      <td>2022-01-31 07:07:09</td>\n",
       "      <td>63.17000</td>\n",
       "      <td>83.85000</td>\n",
       "      <td>21.60000</td>\n",
       "      <td>82.00000</td>\n",
       "    </tr>\n",
       "    <tr>\n",
       "      <th>4</th>\n",
       "      <td>ID_5V2C2ZL221H8</td>\n",
       "      <td>2022-01-31 00:37:05</td>\n",
       "      <td>69.23000</td>\n",
       "      <td>53.07000</td>\n",
       "      <td>22.70000</td>\n",
       "      <td>80.00000</td>\n",
       "    </tr>\n",
       "  </tbody>\n",
       "</table>\n",
       "</div>"
      ],
      "text/plain": [
       "                ID            Datetime  Sensor1_PM2.5  Sensor2_PM2.5  \\\n",
       "0  ID_STL3V9B2OU12 2022-01-28 08:49:41       90.75000      114.78000   \n",
       "1  ID_U2EKAY4SGA94 2022-02-16 21:30:17       56.03000       52.18000   \n",
       "2  ID_UJFLEWQR0U4N 2022-01-24 17:57:18      387.35000      346.73000   \n",
       "3  ID_S2C2GPGA4R5I 2022-01-31 07:07:09       63.17000       83.85000   \n",
       "4  ID_5V2C2ZL221H8 2022-01-31 00:37:05       69.23000       53.07000   \n",
       "\n",
       "   Temperature  Relative_Humidity  \n",
       "0     22.20000           56.00000  \n",
       "1          NaN                NaN  \n",
       "2     28.10000           63.00000  \n",
       "3     21.60000           82.00000  \n",
       "4     22.70000           80.00000  "
      ]
     },
     "execution_count": 4,
     "metadata": {},
     "output_type": "execute_result"
    }
   ],
   "source": [
    "# Preview test dataset\n",
    "test.head()"
   ]
  },
  {
   "cell_type": "code",
   "execution_count": 5,
   "metadata": {
    "cell_id": "00007-c826b806-4fa9-46c9-9cef-004a568dcc62",
    "colab": {
     "base_uri": "https://localhost:8080/",
     "height": 206
    },
    "deepnote_cell_height": 292,
    "deepnote_cell_type": "code",
    "deepnote_output_heights": [
     177
    ],
    "deepnote_to_be_reexecuted": true,
    "id": "V08kByzvZcmU",
    "outputId": "99259372-8541-4a0d-8fff-8e8d2734bd87",
    "source_hash": "98a74342"
   },
   "outputs": [
    {
     "data": {
      "text/html": [
       "<div>\n",
       "<style scoped>\n",
       "    .dataframe tbody tr th:only-of-type {\n",
       "        vertical-align: middle;\n",
       "    }\n",
       "\n",
       "    .dataframe tbody tr th {\n",
       "        vertical-align: top;\n",
       "    }\n",
       "\n",
       "    .dataframe thead th {\n",
       "        text-align: right;\n",
       "    }\n",
       "</style>\n",
       "<table border=\"1\" class=\"dataframe\">\n",
       "  <thead>\n",
       "    <tr style=\"text-align: right;\">\n",
       "      <th></th>\n",
       "      <th>ID</th>\n",
       "      <th>Offset_fault</th>\n",
       "    </tr>\n",
       "  </thead>\n",
       "  <tbody>\n",
       "    <tr>\n",
       "      <th>0</th>\n",
       "      <td>ID_STL3V9B2OU12</td>\n",
       "      <td>0</td>\n",
       "    </tr>\n",
       "    <tr>\n",
       "      <th>1</th>\n",
       "      <td>ID_U2EKAY4SGA94</td>\n",
       "      <td>0</td>\n",
       "    </tr>\n",
       "    <tr>\n",
       "      <th>2</th>\n",
       "      <td>ID_UJFLEWQR0U4N</td>\n",
       "      <td>0</td>\n",
       "    </tr>\n",
       "    <tr>\n",
       "      <th>3</th>\n",
       "      <td>ID_S2C2GPGA4R5I</td>\n",
       "      <td>0</td>\n",
       "    </tr>\n",
       "    <tr>\n",
       "      <th>4</th>\n",
       "      <td>ID_5V2C2ZL221H8</td>\n",
       "      <td>0</td>\n",
       "    </tr>\n",
       "  </tbody>\n",
       "</table>\n",
       "</div>"
      ],
      "text/plain": [
       "                ID  Offset_fault\n",
       "0  ID_STL3V9B2OU12             0\n",
       "1  ID_U2EKAY4SGA94             0\n",
       "2  ID_UJFLEWQR0U4N             0\n",
       "3  ID_S2C2GPGA4R5I             0\n",
       "4  ID_5V2C2ZL221H8             0"
      ]
     },
     "execution_count": 5,
     "metadata": {},
     "output_type": "execute_result"
    }
   ],
   "source": [
    "# Preview sample submission file\n",
    "samplesubmission.head()"
   ]
  },
  {
   "cell_type": "code",
   "execution_count": 6,
   "metadata": {
    "cell_id": "00008-71c0fd87-bca5-430f-843f-c4458a579538",
    "colab": {
     "base_uri": "https://localhost:8080/"
    },
    "deepnote_cell_height": 136,
    "deepnote_cell_type": "code",
    "deepnote_output_heights": [
     21
    ],
    "deepnote_to_be_reexecuted": true,
    "id": "kdoDJBvdXzf4",
    "outputId": "8ae0a74a-83a3-4f71-887a-daddd35acab4",
    "source_hash": "ae9e1702"
   },
   "outputs": [
    {
     "data": {
      "text/plain": [
       "((297177, 7), (127361, 6), (127361, 2))"
      ]
     },
     "execution_count": 6,
     "metadata": {},
     "output_type": "execute_result"
    }
   ],
   "source": [
    "# Check size and shape of datasets\n",
    "train.shape, test.shape, samplesubmission.shape"
   ]
  },
  {
   "cell_type": "code",
   "execution_count": 7,
   "metadata": {
    "cell_id": "00009-f3826ab1-1af3-42fe-81b4-518bb7a90d7e",
    "deepnote_cell_height": 99,
    "deepnote_cell_type": "code",
    "deepnote_to_be_reexecuted": true,
    "pycharm": {
     "name": "#%%\n"
    },
    "source_hash": "cef0c561"
   },
   "outputs": [
    {
     "data": {
      "text/html": [
       "<div>\n",
       "<style scoped>\n",
       "    .dataframe tbody tr th:only-of-type {\n",
       "        vertical-align: middle;\n",
       "    }\n",
       "\n",
       "    .dataframe tbody tr th {\n",
       "        vertical-align: top;\n",
       "    }\n",
       "\n",
       "    .dataframe thead th {\n",
       "        text-align: right;\n",
       "    }\n",
       "</style>\n",
       "<table border=\"1\" class=\"dataframe\">\n",
       "  <thead>\n",
       "    <tr style=\"text-align: right;\">\n",
       "      <th></th>\n",
       "      <th>ID</th>\n",
       "      <th>Datetime</th>\n",
       "      <th>Sensor1_PM2.5</th>\n",
       "      <th>Sensor2_PM2.5</th>\n",
       "      <th>Temperature</th>\n",
       "      <th>Relative_Humidity</th>\n",
       "    </tr>\n",
       "  </thead>\n",
       "  <tbody>\n",
       "    <tr>\n",
       "      <th>0</th>\n",
       "      <td>ID_STL3V9B2OU12</td>\n",
       "      <td>2022-01-28 08:49:41</td>\n",
       "      <td>90.75000</td>\n",
       "      <td>114.78000</td>\n",
       "      <td>22.20000</td>\n",
       "      <td>56.00000</td>\n",
       "    </tr>\n",
       "    <tr>\n",
       "      <th>1</th>\n",
       "      <td>ID_U2EKAY4SGA94</td>\n",
       "      <td>2022-02-16 21:30:17</td>\n",
       "      <td>56.03000</td>\n",
       "      <td>52.18000</td>\n",
       "      <td>NaN</td>\n",
       "      <td>NaN</td>\n",
       "    </tr>\n",
       "    <tr>\n",
       "      <th>2</th>\n",
       "      <td>ID_UJFLEWQR0U4N</td>\n",
       "      <td>2022-01-24 17:57:18</td>\n",
       "      <td>387.35000</td>\n",
       "      <td>346.73000</td>\n",
       "      <td>28.10000</td>\n",
       "      <td>63.00000</td>\n",
       "    </tr>\n",
       "    <tr>\n",
       "      <th>3</th>\n",
       "      <td>ID_S2C2GPGA4R5I</td>\n",
       "      <td>2022-01-31 07:07:09</td>\n",
       "      <td>63.17000</td>\n",
       "      <td>83.85000</td>\n",
       "      <td>21.60000</td>\n",
       "      <td>82.00000</td>\n",
       "    </tr>\n",
       "    <tr>\n",
       "      <th>4</th>\n",
       "      <td>ID_5V2C2ZL221H8</td>\n",
       "      <td>2022-01-31 00:37:05</td>\n",
       "      <td>69.23000</td>\n",
       "      <td>53.07000</td>\n",
       "      <td>22.70000</td>\n",
       "      <td>80.00000</td>\n",
       "    </tr>\n",
       "  </tbody>\n",
       "</table>\n",
       "</div>"
      ],
      "text/plain": [
       "                ID            Datetime  Sensor1_PM2.5  Sensor2_PM2.5  \\\n",
       "0  ID_STL3V9B2OU12 2022-01-28 08:49:41       90.75000      114.78000   \n",
       "1  ID_U2EKAY4SGA94 2022-02-16 21:30:17       56.03000       52.18000   \n",
       "2  ID_UJFLEWQR0U4N 2022-01-24 17:57:18      387.35000      346.73000   \n",
       "3  ID_S2C2GPGA4R5I 2022-01-31 07:07:09       63.17000       83.85000   \n",
       "4  ID_5V2C2ZL221H8 2022-01-31 00:37:05       69.23000       53.07000   \n",
       "\n",
       "   Temperature  Relative_Humidity  \n",
       "0     22.20000           56.00000  \n",
       "1          NaN                NaN  \n",
       "2     28.10000           63.00000  \n",
       "3     21.60000           82.00000  \n",
       "4     22.70000           80.00000  "
      ]
     },
     "execution_count": 7,
     "metadata": {},
     "output_type": "execute_result"
    }
   ],
   "source": [
    "# print(train.columns)\n",
    "test.head()\n",
    "# print(test.columns)"
   ]
  },
  {
   "cell_type": "markdown",
   "metadata": {
    "cell_id": "00010-1548890f-5282-43d6-8302-4dd49c802e31",
    "deepnote_cell_height": 84,
    "deepnote_cell_type": "markdown",
    "id": "KNtwMcKjZk9x"
   },
   "source": [
    "<a name=\"Statistics\"></a>\n",
    "## 3. Statistical summaries"
   ]
  },
  {
   "cell_type": "code",
   "execution_count": 8,
   "metadata": {
    "cell_id": "00011-89d97d5c-9870-4974-9660-4595f76abef5",
    "colab": {
     "base_uri": "https://localhost:8080/",
     "height": 457
    },
    "deepnote_cell_height": 541,
    "deepnote_cell_type": "code",
    "deepnote_output_heights": [
     426
    ],
    "deepnote_to_be_reexecuted": true,
    "id": "S4NqRM3yXzeE",
    "outputId": "63584f13-2038-4608-f8b8-22171de5d8cb",
    "source_hash": "b571503f"
   },
   "outputs": [
    {
     "data": {
      "text/html": [
       "<div>\n",
       "<style scoped>\n",
       "    .dataframe tbody tr th:only-of-type {\n",
       "        vertical-align: middle;\n",
       "    }\n",
       "\n",
       "    .dataframe tbody tr th {\n",
       "        vertical-align: top;\n",
       "    }\n",
       "\n",
       "    .dataframe thead th {\n",
       "        text-align: right;\n",
       "    }\n",
       "</style>\n",
       "<table border=\"1\" class=\"dataframe\">\n",
       "  <thead>\n",
       "    <tr style=\"text-align: right;\">\n",
       "      <th></th>\n",
       "      <th>ID</th>\n",
       "      <th>Datetime</th>\n",
       "      <th>Sensor1_PM2.5</th>\n",
       "      <th>Sensor2_PM2.5</th>\n",
       "      <th>Temperature</th>\n",
       "      <th>Relative_Humidity</th>\n",
       "      <th>Offset_fault</th>\n",
       "    </tr>\n",
       "  </thead>\n",
       "  <tbody>\n",
       "    <tr>\n",
       "      <th>count</th>\n",
       "      <td>297177</td>\n",
       "      <td>297177</td>\n",
       "      <td>293563.00000</td>\n",
       "      <td>293563.00000</td>\n",
       "      <td>293628.00000</td>\n",
       "      <td>293628.00000</td>\n",
       "      <td>297177.00000</td>\n",
       "    </tr>\n",
       "    <tr>\n",
       "      <th>unique</th>\n",
       "      <td>297177</td>\n",
       "      <td>293751</td>\n",
       "      <td>NaN</td>\n",
       "      <td>NaN</td>\n",
       "      <td>NaN</td>\n",
       "      <td>NaN</td>\n",
       "      <td>NaN</td>\n",
       "    </tr>\n",
       "    <tr>\n",
       "      <th>top</th>\n",
       "      <td>ID_H7XMSXSUOJ77</td>\n",
       "      <td>2021-12-06 02:28:52</td>\n",
       "      <td>NaN</td>\n",
       "      <td>NaN</td>\n",
       "      <td>NaN</td>\n",
       "      <td>NaN</td>\n",
       "      <td>NaN</td>\n",
       "    </tr>\n",
       "    <tr>\n",
       "      <th>freq</th>\n",
       "      <td>1</td>\n",
       "      <td>3</td>\n",
       "      <td>NaN</td>\n",
       "      <td>NaN</td>\n",
       "      <td>NaN</td>\n",
       "      <td>NaN</td>\n",
       "      <td>NaN</td>\n",
       "    </tr>\n",
       "    <tr>\n",
       "      <th>first</th>\n",
       "      <td>NaN</td>\n",
       "      <td>2021-10-15 16:00:31</td>\n",
       "      <td>NaN</td>\n",
       "      <td>NaN</td>\n",
       "      <td>NaN</td>\n",
       "      <td>NaN</td>\n",
       "      <td>NaN</td>\n",
       "    </tr>\n",
       "    <tr>\n",
       "      <th>last</th>\n",
       "      <td>NaN</td>\n",
       "      <td>2022-01-21 07:34:57</td>\n",
       "      <td>NaN</td>\n",
       "      <td>NaN</td>\n",
       "      <td>NaN</td>\n",
       "      <td>NaN</td>\n",
       "      <td>NaN</td>\n",
       "    </tr>\n",
       "    <tr>\n",
       "      <th>mean</th>\n",
       "      <td>NaN</td>\n",
       "      <td>NaN</td>\n",
       "      <td>40.75120</td>\n",
       "      <td>38.18302</td>\n",
       "      <td>23.31655</td>\n",
       "      <td>78.65362</td>\n",
       "      <td>0.37107</td>\n",
       "    </tr>\n",
       "    <tr>\n",
       "      <th>std</th>\n",
       "      <td>NaN</td>\n",
       "      <td>NaN</td>\n",
       "      <td>28.52618</td>\n",
       "      <td>28.64776</td>\n",
       "      <td>3.83697</td>\n",
       "      <td>14.77272</td>\n",
       "      <td>0.48309</td>\n",
       "    </tr>\n",
       "    <tr>\n",
       "      <th>min</th>\n",
       "      <td>NaN</td>\n",
       "      <td>NaN</td>\n",
       "      <td>-9.45000</td>\n",
       "      <td>-9.70000</td>\n",
       "      <td>16.70000</td>\n",
       "      <td>27.00000</td>\n",
       "      <td>0.00000</td>\n",
       "    </tr>\n",
       "    <tr>\n",
       "      <th>25%</th>\n",
       "      <td>NaN</td>\n",
       "      <td>NaN</td>\n",
       "      <td>22.43000</td>\n",
       "      <td>19.52000</td>\n",
       "      <td>20.40000</td>\n",
       "      <td>68.00000</td>\n",
       "      <td>0.00000</td>\n",
       "    </tr>\n",
       "    <tr>\n",
       "      <th>50%</th>\n",
       "      <td>NaN</td>\n",
       "      <td>NaN</td>\n",
       "      <td>36.47000</td>\n",
       "      <td>33.72000</td>\n",
       "      <td>21.90000</td>\n",
       "      <td>84.00000</td>\n",
       "      <td>0.00000</td>\n",
       "    </tr>\n",
       "    <tr>\n",
       "      <th>75%</th>\n",
       "      <td>NaN</td>\n",
       "      <td>NaN</td>\n",
       "      <td>49.42000</td>\n",
       "      <td>47.57000</td>\n",
       "      <td>26.30000</td>\n",
       "      <td>91.00000</td>\n",
       "      <td>1.00000</td>\n",
       "    </tr>\n",
       "    <tr>\n",
       "      <th>max</th>\n",
       "      <td>NaN</td>\n",
       "      <td>NaN</td>\n",
       "      <td>997.96000</td>\n",
       "      <td>997.26000</td>\n",
       "      <td>34.90000</td>\n",
       "      <td>99.00000</td>\n",
       "      <td>1.00000</td>\n",
       "    </tr>\n",
       "  </tbody>\n",
       "</table>\n",
       "</div>"
      ],
      "text/plain": [
       "                     ID             Datetime  Sensor1_PM2.5  Sensor2_PM2.5  \\\n",
       "count            297177               297177   293563.00000   293563.00000   \n",
       "unique           297177               293751            NaN            NaN   \n",
       "top     ID_H7XMSXSUOJ77  2021-12-06 02:28:52            NaN            NaN   \n",
       "freq                  1                    3            NaN            NaN   \n",
       "first               NaN  2021-10-15 16:00:31            NaN            NaN   \n",
       "last                NaN  2022-01-21 07:34:57            NaN            NaN   \n",
       "mean                NaN                  NaN       40.75120       38.18302   \n",
       "std                 NaN                  NaN       28.52618       28.64776   \n",
       "min                 NaN                  NaN       -9.45000       -9.70000   \n",
       "25%                 NaN                  NaN       22.43000       19.52000   \n",
       "50%                 NaN                  NaN       36.47000       33.72000   \n",
       "75%                 NaN                  NaN       49.42000       47.57000   \n",
       "max                 NaN                  NaN      997.96000      997.26000   \n",
       "\n",
       "        Temperature  Relative_Humidity  Offset_fault  \n",
       "count  293628.00000       293628.00000  297177.00000  \n",
       "unique          NaN                NaN           NaN  \n",
       "top             NaN                NaN           NaN  \n",
       "freq            NaN                NaN           NaN  \n",
       "first           NaN                NaN           NaN  \n",
       "last            NaN                NaN           NaN  \n",
       "mean       23.31655           78.65362       0.37107  \n",
       "std         3.83697           14.77272       0.48309  \n",
       "min        16.70000           27.00000       0.00000  \n",
       "25%        20.40000           68.00000       0.00000  \n",
       "50%        21.90000           84.00000       0.00000  \n",
       "75%        26.30000           91.00000       1.00000  \n",
       "max        34.90000           99.00000       1.00000  "
      ]
     },
     "execution_count": 8,
     "metadata": {},
     "output_type": "execute_result"
    }
   ],
   "source": [
    "# Train statistical summary\n",
    "train.describe(include = 'all')"
   ]
  },
  {
   "cell_type": "code",
   "execution_count": 9,
   "metadata": {},
   "outputs": [
    {
     "data": {
      "text/html": [
       "<div>\n",
       "<style scoped>\n",
       "    .dataframe tbody tr th:only-of-type {\n",
       "        vertical-align: middle;\n",
       "    }\n",
       "\n",
       "    .dataframe tbody tr th {\n",
       "        vertical-align: top;\n",
       "    }\n",
       "\n",
       "    .dataframe thead th {\n",
       "        text-align: right;\n",
       "    }\n",
       "</style>\n",
       "<table border=\"1\" class=\"dataframe\">\n",
       "  <thead>\n",
       "    <tr style=\"text-align: right;\">\n",
       "      <th></th>\n",
       "      <th>ID</th>\n",
       "      <th>Datetime</th>\n",
       "      <th>Sensor1_PM2.5</th>\n",
       "      <th>Sensor2_PM2.5</th>\n",
       "      <th>Temperature</th>\n",
       "      <th>Relative_Humidity</th>\n",
       "      <th>Offset_fault</th>\n",
       "    </tr>\n",
       "  </thead>\n",
       "  <tbody>\n",
       "    <tr>\n",
       "      <th>0</th>\n",
       "      <td>ID_QF0ZTQJ2SF5Q</td>\n",
       "      <td>2021-11-03 04:06:31</td>\n",
       "      <td>52.58000</td>\n",
       "      <td>49.52000</td>\n",
       "      <td>17.40000</td>\n",
       "      <td>96.00000</td>\n",
       "      <td>0</td>\n",
       "    </tr>\n",
       "    <tr>\n",
       "      <th>1</th>\n",
       "      <td>ID_4GTK689CNX5S</td>\n",
       "      <td>2021-11-08 18:43:23</td>\n",
       "      <td>35.25000</td>\n",
       "      <td>33.40000</td>\n",
       "      <td>25.00000</td>\n",
       "      <td>75.00000</td>\n",
       "      <td>0</td>\n",
       "    </tr>\n",
       "    <tr>\n",
       "      <th>2</th>\n",
       "      <td>ID_DL7VVKW9U7XQ</td>\n",
       "      <td>2021-11-07 09:50:33</td>\n",
       "      <td>19.18000</td>\n",
       "      <td>23.50000</td>\n",
       "      <td>24.90000</td>\n",
       "      <td>75.00000</td>\n",
       "      <td>0</td>\n",
       "    </tr>\n",
       "    <tr>\n",
       "      <th>3</th>\n",
       "      <td>ID_6XQOMBXM2DG3</td>\n",
       "      <td>2022-01-01 18:55:15</td>\n",
       "      <td>19.40000</td>\n",
       "      <td>15.48000</td>\n",
       "      <td>24.90000</td>\n",
       "      <td>70.00000</td>\n",
       "      <td>0</td>\n",
       "    </tr>\n",
       "    <tr>\n",
       "      <th>4</th>\n",
       "      <td>ID_UQZW9ISJY9QE</td>\n",
       "      <td>2021-11-05 22:23:48</td>\n",
       "      <td>38.30000</td>\n",
       "      <td>34.77000</td>\n",
       "      <td>20.90000</td>\n",
       "      <td>89.00000</td>\n",
       "      <td>0</td>\n",
       "    </tr>\n",
       "  </tbody>\n",
       "</table>\n",
       "</div>"
      ],
      "text/plain": [
       "                ID            Datetime  Sensor1_PM2.5  Sensor2_PM2.5  \\\n",
       "0  ID_QF0ZTQJ2SF5Q 2021-11-03 04:06:31       52.58000       49.52000   \n",
       "1  ID_4GTK689CNX5S 2021-11-08 18:43:23       35.25000       33.40000   \n",
       "2  ID_DL7VVKW9U7XQ 2021-11-07 09:50:33       19.18000       23.50000   \n",
       "3  ID_6XQOMBXM2DG3 2022-01-01 18:55:15       19.40000       15.48000   \n",
       "4  ID_UQZW9ISJY9QE 2021-11-05 22:23:48       38.30000       34.77000   \n",
       "\n",
       "   Temperature  Relative_Humidity  Offset_fault  \n",
       "0     17.40000           96.00000             0  \n",
       "1     25.00000           75.00000             0  \n",
       "2     24.90000           75.00000             0  \n",
       "3     24.90000           70.00000             0  \n",
       "4     20.90000           89.00000             0  "
      ]
     },
     "execution_count": 9,
     "metadata": {},
     "output_type": "execute_result"
    }
   ],
   "source": [
    "train.head()"
   ]
  },
  {
   "cell_type": "markdown",
   "metadata": {
    "cell_id": "00012-d38199c1-32f2-4234-9f45-835b1804fb91",
    "deepnote_cell_height": 155.10000610351562,
    "deepnote_cell_type": "markdown",
    "id": "2kESZ-qvnSEa"
   },
   "source": [
    "From the above statistical summary, we can deduce some of the following insights:\n",
    " - The train data provided ranges from *2021-10-15 16:00:34* to *2022-01-21 07:34:57*\n",
    " - There is a high correlation between Sensor1_PM2.5\tand Sensor2_PM2.5\n",
    " - Minimum recorded temperature is *16.70000* and a maximum *34.90000*"
   ]
  },
  {
   "cell_type": "code",
   "execution_count": null,
   "metadata": {},
   "outputs": [],
   "source": []
  },
  {
   "cell_type": "code",
   "execution_count": 10,
   "metadata": {
    "cell_id": "00013-1307dc5a-9ffd-4978-9127-e272262bef31",
    "colab": {
     "base_uri": "https://localhost:8080/",
     "height": 351
    },
    "deepnote_cell_height": 518,
    "deepnote_cell_type": "code",
    "deepnote_output_heights": [
     331
    ],
    "deepnote_to_be_reexecuted": true,
    "id": "2iTls3u3S6Yo",
    "outputId": "3529639e-c36a-4a4b-8094-c07d069e7751",
    "source_hash": "97907b97"
   },
   "outputs": [
    {
     "data": {
      "image/png": "[encoded data removed]",
      "text/plain": [
       "<Figure size 576x360 with 1 Axes>"
      ]
     },
     "metadata": {},
     "output_type": "display_data"
    }
   ],
   "source": [
    "# Target variable distribution\n",
    "sns.set_style('darkgrid')\n",
    "plt.figure(figsize=(8, 5))\n",
    "sns.countplot(train[\"Offset_fault\"])\n",
    "plt.title('Target variable distribution')\n",
    "plt.show()"
   ]
  },
  {
   "cell_type": "markdown",
   "metadata": {
    "cell_id": "00014-20470214-dbba-4eac-931f-42d7097f1f6c",
    "deepnote_cell_height": 155.10000610351562,
    "deepnote_cell_type": "markdown",
    "id": "x4gly1_uSAeY"
   },
   "source": [
    "The target variable is not well balanced.\n",
    "Some of the techniques to handle imbalanceness include:\n",
    "- Smote\n",
    "- Oversampling\n",
    "- Undersampling ..."
   ]
  },
  {
   "cell_type": "markdown",
   "metadata": {
    "cell_id": "00015-aad5f32e-b3b3-4903-a7be-6f288a92c058",
    "deepnote_cell_height": 84,
    "deepnote_cell_type": "markdown",
    "id": "bJNhVNKn5uEE"
   },
   "source": [
    "<a name=\"Missing\"></a>\n",
    "## 4. Missing values and duplicates"
   ]
  },
  {
   "cell_type": "code",
   "execution_count": 11,
   "metadata": {
    "cell_id": "00016-0c48f863-ce16-4e11-9fb2-ff56e3ce5ba0",
    "colab": {
     "base_uri": "https://localhost:8080/"
    },
    "deepnote_cell_height": 136,
    "deepnote_cell_type": "code",
    "deepnote_output_heights": [
     21
    ],
    "deepnote_to_be_reexecuted": true,
    "id": "4Ftu9Y3tbXzk",
    "outputId": "cf356d92-38d4-44fb-839d-e686a4d32f6b",
    "source_hash": "dee2fd01"
   },
   "outputs": [
    {
     "data": {
      "text/plain": [
       "(True, True)"
      ]
     },
     "execution_count": 11,
     "metadata": {},
     "output_type": "execute_result"
    }
   ],
   "source": [
    "# Check for missing values\n",
    "train.isnull().sum().any(), test.isnull().sum().any()"
   ]
  },
  {
   "cell_type": "code",
   "execution_count": 12,
   "metadata": {
    "cell_id": "00017-66cc18cf-acf4-49d4-a2b8-d3f3b93152da",
    "deepnote_cell_height": 374.79998779296875,
    "deepnote_cell_type": "code",
    "deepnote_to_be_reexecuted": true,
    "pycharm": {
     "name": "#%%\n"
    },
    "source_hash": "fea28bdd"
   },
   "outputs": [
    {
     "name": "stdout",
     "output_type": "stream",
     "text": [
      "<class 'pandas.core.frame.DataFrame'>\n",
      "RangeIndex: 297177 entries, 0 to 297176\n",
      "Data columns (total 7 columns):\n",
      " #   Column             Non-Null Count   Dtype         \n",
      "---  ------             --------------   -----         \n",
      " 0   ID                 297177 non-null  object        \n",
      " 1   Datetime           297177 non-null  datetime64[ns]\n",
      " 2   Sensor1_PM2.5      293563 non-null  float64       \n",
      " 3   Sensor2_PM2.5      293563 non-null  float64       \n",
      " 4   Temperature        293628 non-null  float64       \n",
      " 5   Relative_Humidity  293628 non-null  float64       \n",
      " 6   Offset_fault       297177 non-null  int64         \n",
      "dtypes: datetime64[ns](1), float64(4), int64(1), object(1)\n",
      "memory usage: 15.9+ MB\n"
     ]
    }
   ],
   "source": [
    "train.info()"
   ]
  },
  {
   "cell_type": "code",
   "execution_count": 13,
   "metadata": {
    "cell_id": "00018-29953106-609c-4c3b-9c48-ac49a9a7a964",
    "colab": {
     "base_uri": "https://localhost:8080/",
     "height": 609
    },
    "deepnote_cell_height": 834,
    "deepnote_cell_type": "code",
    "deepnote_output_heights": [
     593
    ],
    "deepnote_to_be_reexecuted": true,
    "id": "K3eu41vhbXw9",
    "outputId": "e81f2af4-6102-47dc-917a-7d9678af4089",
    "source_hash": "7d9de30b"
   },
   "outputs": [
    {
     "data": {
      "image/png": "[encoded data removed]",
      "text/plain": [
       "<Figure size 648x720 with 1 Axes>"
      ]
     },
     "metadata": {},
     "output_type": "display_data"
    }
   ],
   "source": [
    "# Plot missing values in train set\n",
    "ax = train.isna().sum().sort_values().plot(kind = 'barh', figsize = (9, 10))\n",
    "plt.title('Percentage of Missing Values Per Column in Train Set', fontdict={'size':15})\n",
    "for p in ax.patches:\n",
    "    percentage ='{:,.0f}%'.format((p.get_width()/train.shape[0])*100)\n",
    "    width, height =p.get_width(),p.get_height()\n",
    "    x=p.get_x()+width+0.02\n",
    "    y=p.get_y()+height/2\n",
    "    ax.annotate(percentage,(x,y))"
   ]
  },
  {
   "cell_type": "markdown",
   "metadata": {
    "cell_id": "00019-fa3a6946-58fa-47e3-b808-992ebfd1fa60",
    "deepnote_cell_height": 155.10000610351562,
    "deepnote_cell_type": "markdown",
    "id": "e06doaah27vk"
   },
   "source": [
    "Suggestions on how to handle missing values:\n",
    " - Fill in missing values with mode, mean, median..\n",
    " - Drop Missing datapoints with missing values\n",
    " - Fill in with a large number e.g -999999"
   ]
  },
  {
   "cell_type": "code",
   "execution_count": 14,
   "metadata": {},
   "outputs": [],
   "source": [
    "import statsmodels.api as sm"
   ]
  },
  {
   "cell_type": "code",
   "execution_count": 15,
   "metadata": {
    "cell_id": "00021-5a0ce89d-107d-4936-b1c7-bd3fd37b4df2",
    "colab": {
     "base_uri": "https://localhost:8080/"
    },
    "deepnote_cell_height": 136,
    "deepnote_cell_type": "code",
    "deepnote_output_heights": [
     21
    ],
    "deepnote_to_be_reexecuted": true,
    "id": "mALOf0CfbXs0",
    "outputId": "aeadce42-274a-49df-d00a-8c1dd3283b35",
    "source_hash": "8370e06a"
   },
   "outputs": [
    {
     "data": {
      "text/plain": [
       "(False, False)"
      ]
     },
     "execution_count": 15,
     "metadata": {},
     "output_type": "execute_result"
    }
   ],
   "source": [
    "# Check for duplicates\n",
    "train.duplicated().any(), test.duplicated().any()"
   ]
  },
  {
   "cell_type": "markdown",
   "metadata": {
    "cell_id": "00022-9594cc79-5d43-4ad5-8696-954003e6e8a1",
    "deepnote_cell_height": 52.399993896484375,
    "deepnote_cell_type": "markdown",
    "id": "rty_X2Ov4fOy"
   },
   "source": [
    "No duplictes "
   ]
  },
  {
   "cell_type": "markdown",
   "metadata": {
    "cell_id": "00023-c30b1843-d239-4de9-816e-d98f1f1c1b6e",
    "deepnote_cell_height": 84,
    "deepnote_cell_type": "markdown",
    "id": "6VmqiddbckaX"
   },
   "source": [
    "<a name=\"Outliers\"></a>\n",
    "## 5. Outliers"
   ]
  },
  {
   "cell_type": "code",
   "execution_count": 16,
   "metadata": {
    "cell_id": "00024-3f890f96-7b4d-4d24-ab0c-484e8ae3929d",
    "colab": {
     "base_uri": "https://localhost:8080/",
     "height": 642
    },
    "deepnote_cell_height": 757,
    "deepnote_cell_type": "code",
    "deepnote_output_heights": [
     552
    ],
    "deepnote_to_be_reexecuted": true,
    "id": "-v4vaXv3bXqh",
    "outputId": "6d747257-c8b9-40a3-e96e-ce90b9d4de01",
    "source_hash": "484bb907"
   },
   "outputs": [
    {
     "data": {
      "image/png": "[encoded data removed]",
      "text/plain": [
       "<Figure size 1080x720 with 4 Axes>"
      ]
     },
     "metadata": {},
     "output_type": "display_data"
    }
   ],
   "source": [
    "# Plotting boxplots for each of the numerical columns\n",
    "sns.set_style('darkgrid')\n",
    "fig, axes = plt.subplots(nrows = 2, ncols = 2, figsize = (15, 10))\n",
    "fig.suptitle('Box plots showing outliers', y= 0.93, fontsize = 15)\n",
    "\n",
    "for ax, data, name in zip(axes.flatten(), train, ['Sensor1_PM2.5',\t'Sensor2_PM2.5',\t'Temperature',\t'Relative_Humidity']):\n",
    "  sns.boxplot(train[name], ax = ax)"
   ]
  },
  {
   "cell_type": "markdown",
   "metadata": {
    "cell_id": "00025-1ab9a6fb-5ecf-4bc9-90be-86a0ffa83431",
    "deepnote_cell_height": 191.5,
    "deepnote_cell_type": "markdown",
    "id": "ERPdXhEx2pjD"
   },
   "source": [
    "Outliers are those data points which differs significantly from other observations present in given dataset.\n",
    "\n",
    "Suggestions on how to handle outliers:\n",
    " - Transforming the outliers by scaling - log transformation, box-cox transformation ...\n",
    " - Dropping outliers\n",
    " - Imputation by replacing outliers with mean, median ...\n"
   ]
  },
  {
   "cell_type": "markdown",
   "metadata": {
    "cell_id": "00026-431b5c92-8f32-4ce3-b7f5-e890c311e706",
    "deepnote_cell_height": 84,
    "deepnote_cell_type": "markdown",
    "id": "ndwt2QXVpyXF"
   },
   "source": [
    "<a name=\"Engineering\"></a>\n",
    "## 6. Feature engineering"
   ]
  },
  {
   "cell_type": "code",
   "execution_count": 17,
   "metadata": {
    "cell_id": "00027-f96f1804-8abf-47c4-b052-3344bd32ba53",
    "deepnote_cell_height": 1021.2000122070312,
    "deepnote_cell_type": "code",
    "deepnote_output_heights": [
     null,
     194
    ],
    "deepnote_to_be_reexecuted": true,
    "pycharm": {
     "name": "#%%\n"
    },
    "source_hash": "de02face"
   },
   "outputs": [
    {
     "name": "stdout",
     "output_type": "stream",
     "text": [
      "15 14\n"
     ]
    },
    {
     "data": {
      "text/plain": [
       "(Index(['ID', 'Datetime', 'Sensor1_PM2.5', 'Sensor2_PM2.5', 'Temperature',\n",
       "        'Relative_Humidity', 'Offset_fault', 'Datetime_day', 'Datetime_month',\n",
       "        'Datetime_year', 'Datetime_hour', 'Datetime_dayofweek',\n",
       "        'Datetime_weekofyear', 'Temperature_mean', 'Relative_Humidity_mean'],\n",
       "       dtype='object'),\n",
       " Index(['ID', 'Datetime', 'Sensor1_PM2.5', 'Sensor2_PM2.5', 'Temperature',\n",
       "        'Relative_Humidity', 'Datetime_day', 'Datetime_month', 'Datetime_year',\n",
       "        'Datetime_hour', 'Datetime_dayofweek', 'Datetime_weekofyear',\n",
       "        'Temperature_mean', 'Relative_Humidity_mean'],\n",
       "       dtype='object'))"
      ]
     },
     "execution_count": 17,
     "metadata": {},
     "output_type": "execute_result"
    }
   ],
   "source": [
    "# data transformation\n",
    "datasets = [train, test]\n",
    "# cols_drop = ['Temperature', 'Relative_Humidity']\n",
    "\n",
    "for dataset in datasets:\n",
    "    dataset['Datetime_day'] = dataset.Datetime.dt.day\n",
    "    # month\n",
    "    dataset['Datetime_month'] = dataset.Datetime.dt.month\n",
    "\n",
    "    # year\n",
    "    dataset['Datetime_year'] = dataset.Datetime.dt.year\n",
    "\n",
    "    # hour\n",
    "    dataset['Datetime_hour'] = dataset.Datetime.dt.hour\n",
    "\n",
    "    # added these 4 columns to the dataset\n",
    "    # day of week\n",
    "    dataset['Datetime_dayofweek'] = dataset.Datetime.dt.dayofweek\n",
    "\n",
    "    # week of year\n",
    "    dataset['Datetime_weekofyear'] = dataset.Datetime.dt.weekofyear\n",
    "\n",
    "    # mean temperature\n",
    "    dataset['Temperature_mean'] = dataset.groupby('Datetime_day')['Temperature'].transform('mean')\n",
    "\n",
    "    # mean relative humidity\n",
    "    dataset['Relative_Humidity_mean'] = dataset.groupby('Datetime_day')['Relative_Humidity'].transform('mean')\n",
    "\n",
    "    # drop temperature and humidity\n",
    "    # dataset.drop(cols_drop, inplace=True, axis=1)\n",
    "\n",
    "    # fill missing values if any (with mode)\n",
    "    for col in dataset.columns:\n",
    "        dataset[col].fillna(dataset[col].mode()[0], inplace=True)\n",
    "\n",
    "print(len(train.columns), len(test.columns))\n",
    "\n",
    "train.columns, test.columns\n",
    "# train.columns.value_counts()"
   ]
  },
  {
   "cell_type": "code",
   "execution_count": 18,
   "metadata": {
    "cell_id": "00028-60174f51-6874-40c7-abf9-1d9a13d85932",
    "deepnote_cell_height": 496,
    "deepnote_cell_type": "code",
    "deepnote_output_heights": [
     399
    ],
    "deepnote_to_be_reexecuted": true,
    "pycharm": {
     "name": "#%%\n"
    },
    "source_hash": "951a9862"
   },
   "outputs": [
    {
     "data": {
      "text/html": [
       "<div>\n",
       "<style scoped>\n",
       "    .dataframe tbody tr th:only-of-type {\n",
       "        vertical-align: middle;\n",
       "    }\n",
       "\n",
       "    .dataframe tbody tr th {\n",
       "        vertical-align: top;\n",
       "    }\n",
       "\n",
       "    .dataframe thead th {\n",
       "        text-align: right;\n",
       "    }\n",
       "</style>\n",
       "<table border=\"1\" class=\"dataframe\">\n",
       "  <thead>\n",
       "    <tr style=\"text-align: right;\">\n",
       "      <th></th>\n",
       "      <th>ID</th>\n",
       "      <th>Datetime</th>\n",
       "      <th>Sensor1_PM2.5</th>\n",
       "      <th>Sensor2_PM2.5</th>\n",
       "      <th>Temperature</th>\n",
       "      <th>Relative_Humidity</th>\n",
       "      <th>Datetime_day</th>\n",
       "      <th>Datetime_month</th>\n",
       "      <th>Datetime_year</th>\n",
       "      <th>Datetime_hour</th>\n",
       "      <th>Datetime_dayofweek</th>\n",
       "      <th>Datetime_weekofyear</th>\n",
       "      <th>Temperature_mean</th>\n",
       "      <th>Relative_Humidity_mean</th>\n",
       "    </tr>\n",
       "  </thead>\n",
       "  <tbody>\n",
       "    <tr>\n",
       "      <th>0</th>\n",
       "      <td>ID_STL3V9B2OU12</td>\n",
       "      <td>2022-01-28 08:49:41</td>\n",
       "      <td>90.75000</td>\n",
       "      <td>114.78000</td>\n",
       "      <td>22.20000</td>\n",
       "      <td>56.00000</td>\n",
       "      <td>28</td>\n",
       "      <td>1</td>\n",
       "      <td>2022</td>\n",
       "      <td>8</td>\n",
       "      <td>4</td>\n",
       "      <td>4</td>\n",
       "      <td>24.97663</td>\n",
       "      <td>52.28024</td>\n",
       "    </tr>\n",
       "    <tr>\n",
       "      <th>1</th>\n",
       "      <td>ID_U2EKAY4SGA94</td>\n",
       "      <td>2022-02-16 21:30:17</td>\n",
       "      <td>56.03000</td>\n",
       "      <td>52.18000</td>\n",
       "      <td>21.00000</td>\n",
       "      <td>92.00000</td>\n",
       "      <td>16</td>\n",
       "      <td>2</td>\n",
       "      <td>2022</td>\n",
       "      <td>21</td>\n",
       "      <td>2</td>\n",
       "      <td>7</td>\n",
       "      <td>22.09121</td>\n",
       "      <td>83.37393</td>\n",
       "    </tr>\n",
       "    <tr>\n",
       "      <th>2</th>\n",
       "      <td>ID_UJFLEWQR0U4N</td>\n",
       "      <td>2022-01-24 17:57:18</td>\n",
       "      <td>387.35000</td>\n",
       "      <td>346.73000</td>\n",
       "      <td>28.10000</td>\n",
       "      <td>63.00000</td>\n",
       "      <td>24</td>\n",
       "      <td>1</td>\n",
       "      <td>2022</td>\n",
       "      <td>17</td>\n",
       "      <td>0</td>\n",
       "      <td>4</td>\n",
       "      <td>26.41729</td>\n",
       "      <td>65.60969</td>\n",
       "    </tr>\n",
       "    <tr>\n",
       "      <th>3</th>\n",
       "      <td>ID_S2C2GPGA4R5I</td>\n",
       "      <td>2022-01-31 07:07:09</td>\n",
       "      <td>63.17000</td>\n",
       "      <td>83.85000</td>\n",
       "      <td>21.60000</td>\n",
       "      <td>82.00000</td>\n",
       "      <td>31</td>\n",
       "      <td>1</td>\n",
       "      <td>2022</td>\n",
       "      <td>7</td>\n",
       "      <td>0</td>\n",
       "      <td>5</td>\n",
       "      <td>22.23156</td>\n",
       "      <td>81.77883</td>\n",
       "    </tr>\n",
       "    <tr>\n",
       "      <th>4</th>\n",
       "      <td>ID_5V2C2ZL221H8</td>\n",
       "      <td>2022-01-31 00:37:05</td>\n",
       "      <td>69.23000</td>\n",
       "      <td>53.07000</td>\n",
       "      <td>22.70000</td>\n",
       "      <td>80.00000</td>\n",
       "      <td>31</td>\n",
       "      <td>1</td>\n",
       "      <td>2022</td>\n",
       "      <td>0</td>\n",
       "      <td>0</td>\n",
       "      <td>5</td>\n",
       "      <td>22.23156</td>\n",
       "      <td>81.77883</td>\n",
       "    </tr>\n",
       "    <tr>\n",
       "      <th>...</th>\n",
       "      <td>...</td>\n",
       "      <td>...</td>\n",
       "      <td>...</td>\n",
       "      <td>...</td>\n",
       "      <td>...</td>\n",
       "      <td>...</td>\n",
       "      <td>...</td>\n",
       "      <td>...</td>\n",
       "      <td>...</td>\n",
       "      <td>...</td>\n",
       "      <td>...</td>\n",
       "      <td>...</td>\n",
       "      <td>...</td>\n",
       "      <td>...</td>\n",
       "    </tr>\n",
       "    <tr>\n",
       "      <th>127356</th>\n",
       "      <td>ID_HNCS9Q2GNCQB</td>\n",
       "      <td>2022-02-13 00:37:14</td>\n",
       "      <td>33.65000</td>\n",
       "      <td>42.23000</td>\n",
       "      <td>21.00000</td>\n",
       "      <td>92.00000</td>\n",
       "      <td>13</td>\n",
       "      <td>2</td>\n",
       "      <td>2022</td>\n",
       "      <td>0</td>\n",
       "      <td>6</td>\n",
       "      <td>6</td>\n",
       "      <td>22.09121</td>\n",
       "      <td>83.37393</td>\n",
       "    </tr>\n",
       "    <tr>\n",
       "      <th>127357</th>\n",
       "      <td>ID_GIIQYTE11L3H</td>\n",
       "      <td>2022-03-09 16:26:42</td>\n",
       "      <td>21.23000</td>\n",
       "      <td>15.72000</td>\n",
       "      <td>21.00000</td>\n",
       "      <td>92.00000</td>\n",
       "      <td>9</td>\n",
       "      <td>3</td>\n",
       "      <td>2022</td>\n",
       "      <td>16</td>\n",
       "      <td>2</td>\n",
       "      <td>10</td>\n",
       "      <td>22.09121</td>\n",
       "      <td>83.37393</td>\n",
       "    </tr>\n",
       "    <tr>\n",
       "      <th>127358</th>\n",
       "      <td>ID_EC7F1P4GXKCL</td>\n",
       "      <td>2022-02-18 14:47:28</td>\n",
       "      <td>41.45000</td>\n",
       "      <td>47.25000</td>\n",
       "      <td>21.00000</td>\n",
       "      <td>92.00000</td>\n",
       "      <td>18</td>\n",
       "      <td>2</td>\n",
       "      <td>2022</td>\n",
       "      <td>14</td>\n",
       "      <td>4</td>\n",
       "      <td>7</td>\n",
       "      <td>22.09121</td>\n",
       "      <td>83.37393</td>\n",
       "    </tr>\n",
       "    <tr>\n",
       "      <th>127359</th>\n",
       "      <td>ID_J64RVG2BRAG0</td>\n",
       "      <td>2022-03-11 19:14:11</td>\n",
       "      <td>28.60000</td>\n",
       "      <td>27.27000</td>\n",
       "      <td>21.00000</td>\n",
       "      <td>92.00000</td>\n",
       "      <td>11</td>\n",
       "      <td>3</td>\n",
       "      <td>2022</td>\n",
       "      <td>19</td>\n",
       "      <td>4</td>\n",
       "      <td>10</td>\n",
       "      <td>22.09121</td>\n",
       "      <td>83.37393</td>\n",
       "    </tr>\n",
       "    <tr>\n",
       "      <th>127360</th>\n",
       "      <td>ID_7ABZNHCIVVAV</td>\n",
       "      <td>2022-03-11 01:51:28</td>\n",
       "      <td>41.87000</td>\n",
       "      <td>39.82000</td>\n",
       "      <td>21.00000</td>\n",
       "      <td>92.00000</td>\n",
       "      <td>11</td>\n",
       "      <td>3</td>\n",
       "      <td>2022</td>\n",
       "      <td>1</td>\n",
       "      <td>4</td>\n",
       "      <td>10</td>\n",
       "      <td>22.09121</td>\n",
       "      <td>83.37393</td>\n",
       "    </tr>\n",
       "  </tbody>\n",
       "</table>\n",
       "<p>127361 rows × 14 columns</p>\n",
       "</div>"
      ],
      "text/plain": [
       "                     ID            Datetime  Sensor1_PM2.5  Sensor2_PM2.5  \\\n",
       "0       ID_STL3V9B2OU12 2022-01-28 08:49:41       90.75000      114.78000   \n",
       "1       ID_U2EKAY4SGA94 2022-02-16 21:30:17       56.03000       52.18000   \n",
       "2       ID_UJFLEWQR0U4N 2022-01-24 17:57:18      387.35000      346.73000   \n",
       "3       ID_S2C2GPGA4R5I 2022-01-31 07:07:09       63.17000       83.85000   \n",
       "4       ID_5V2C2ZL221H8 2022-01-31 00:37:05       69.23000       53.07000   \n",
       "...                 ...                 ...            ...            ...   \n",
       "127356  ID_HNCS9Q2GNCQB 2022-02-13 00:37:14       33.65000       42.23000   \n",
       "127357  ID_GIIQYTE11L3H 2022-03-09 16:26:42       21.23000       15.72000   \n",
       "127358  ID_EC7F1P4GXKCL 2022-02-18 14:47:28       41.45000       47.25000   \n",
       "127359  ID_J64RVG2BRAG0 2022-03-11 19:14:11       28.60000       27.27000   \n",
       "127360  ID_7ABZNHCIVVAV 2022-03-11 01:51:28       41.87000       39.82000   \n",
       "\n",
       "        Temperature  Relative_Humidity  Datetime_day  Datetime_month  \\\n",
       "0          22.20000           56.00000            28               1   \n",
       "1          21.00000           92.00000            16               2   \n",
       "2          28.10000           63.00000            24               1   \n",
       "3          21.60000           82.00000            31               1   \n",
       "4          22.70000           80.00000            31               1   \n",
       "...             ...                ...           ...             ...   \n",
       "127356     21.00000           92.00000            13               2   \n",
       "127357     21.00000           92.00000             9               3   \n",
       "127358     21.00000           92.00000            18               2   \n",
       "127359     21.00000           92.00000            11               3   \n",
       "127360     21.00000           92.00000            11               3   \n",
       "\n",
       "        Datetime_year  Datetime_hour  Datetime_dayofweek  Datetime_weekofyear  \\\n",
       "0                2022              8                   4                    4   \n",
       "1                2022             21                   2                    7   \n",
       "2                2022             17                   0                    4   \n",
       "3                2022              7                   0                    5   \n",
       "4                2022              0                   0                    5   \n",
       "...               ...            ...                 ...                  ...   \n",
       "127356           2022              0                   6                    6   \n",
       "127357           2022             16                   2                   10   \n",
       "127358           2022             14                   4                    7   \n",
       "127359           2022             19                   4                   10   \n",
       "127360           2022              1                   4                   10   \n",
       "\n",
       "        Temperature_mean  Relative_Humidity_mean  \n",
       "0               24.97663                52.28024  \n",
       "1               22.09121                83.37393  \n",
       "2               26.41729                65.60969  \n",
       "3               22.23156                81.77883  \n",
       "4               22.23156                81.77883  \n",
       "...                  ...                     ...  \n",
       "127356          22.09121                83.37393  \n",
       "127357          22.09121                83.37393  \n",
       "127358          22.09121                83.37393  \n",
       "127359          22.09121                83.37393  \n",
       "127360          22.09121                83.37393  \n",
       "\n",
       "[127361 rows x 14 columns]"
      ]
     },
     "execution_count": 18,
     "metadata": {},
     "output_type": "execute_result"
    }
   ],
   "source": [
    "test"
   ]
  },
  {
   "cell_type": "markdown",
   "metadata": {
    "cell_id": "00030-94390f1f-27b3-4d58-b61c-98ab08aed13e",
    "deepnote_cell_height": 84,
    "deepnote_cell_type": "markdown",
    "id": "jY_lY3A2w5Qb"
   },
   "source": [
    "<a name=\"Dates\"></a>\n",
    "## 7. Date features EDA"
   ]
  },
  {
   "cell_type": "code",
   "execution_count": 19,
   "metadata": {
    "cell_id": "00031-5ab2fede-dce9-45f0-8a6f-e85b5eefc4df",
    "colab": {
     "base_uri": "https://localhost:8080/",
     "height": 459
    },
    "deepnote_cell_height": 561,
    "deepnote_cell_type": "code",
    "deepnote_output_heights": [
     392
    ],
    "deepnote_to_be_reexecuted": true,
    "id": "6BM9cJepx03e",
    "outputId": "66a9ce61-b05b-4e9e-853a-1b25cb029502",
    "source_hash": "99e35c06"
   },
   "outputs": [
    {
     "data": {
      "image/png": "[encoded data removed]",
      "text/plain": [
       "<Figure size 1008x504 with 1 Axes>"
      ]
     },
     "metadata": {},
     "output_type": "display_data"
    }
   ],
   "source": [
    "# Datetime month countplot\n",
    "plt.figure(figsize = (14, 7))\n",
    "sns.countplot(x = 'Datetime_month', data = train)\n",
    "plt.title('Datetime month count plot')\n",
    "plt.show()"
   ]
  },
  {
   "cell_type": "markdown",
   "metadata": {
    "cell_id": "00032-c112e429-ddc7-4046-b6d5-19f38c9de835",
    "deepnote_cell_height": 118.19999694824219,
    "deepnote_cell_type": "markdown",
    "id": "cGIt4f-esd9J"
   },
   "source": [
    "- The only months available in the train set include *Jan, Oct, Nov and Dec*\n",
    "- March has the least number of observations in the dataset while December has the highest number of observations"
   ]
  },
  {
   "cell_type": "code",
   "execution_count": 20,
   "metadata": {
    "cell_id": "00033-b43b7dd5-5ff5-4b84-b129-c5c93eb58d1c",
    "colab": {
     "base_uri": "https://localhost:8080/",
     "height": 479
    },
    "deepnote_cell_height": 550,
    "deepnote_cell_type": "code",
    "deepnote_output_heights": [
     345
    ],
    "deepnote_to_be_reexecuted": true,
    "id": "jLifvK1kx8GX",
    "outputId": "ac7c44cf-fc7f-45fb-ca65-c60ceaace159",
    "source_hash": "69bdba18"
   },
   "outputs": [
    {
     "data": {
      "image/png": "[encoded data removed]",
      "text/plain": [
       "<Figure size 1224x504 with 2 Axes>"
      ]
     },
     "metadata": {},
     "output_type": "display_data"
    }
   ],
   "source": [
    "# Box plots for Sensor1_PM2.5\tand Sensor2_PM2.5 vs Offset faults\n",
    "sns.set_style('darkgrid')\n",
    "fig, axes = plt.subplots(nrows = 1, ncols = 2, figsize = (17, 7))\n",
    "fig.suptitle('Box plot for Sensor1_PM2.5\tand Sensor2_PM2.5 vs Offset faults', y= 0.95, fontsize = 15)\n",
    "\n",
    "for ax, data, name in zip(axes.flatten(), train, ['Sensor1_PM2.5', 'Sensor2_PM2.5']):\n",
    "  sns.boxplot(train.Offset_fault, train[name], ax= ax)"
   ]
  },
  {
   "cell_type": "markdown",
   "metadata": {
    "cell_id": "00034-f194623c-3bdf-4ea0-bd14-43d8c4284d45",
    "deepnote_cell_height": 92.30000305175781,
    "deepnote_cell_type": "markdown",
    "id": "EdwTKG14O1zo"
   },
   "source": [
    " - Sensor 1 and sensor 2 are highly correlated with majority of the non faulty observations having the highest number of outliers"
   ]
  },
  {
   "cell_type": "markdown",
   "metadata": {
    "cell_id": "00035-caa2ed0c-3c65-4396-bff8-1dc4a47264b5",
    "deepnote_cell_height": 84,
    "deepnote_cell_type": "markdown",
    "id": "F9O2HykxLwcJ"
   },
   "source": [
    "<a name=\"Correlations\"></a>\n",
    "## 8. Correlations - EDA"
   ]
  },
  {
   "cell_type": "code",
   "execution_count": 21,
   "metadata": {
    "cell_id": "00036-0868cf42-1c7d-45ef-a21d-418f66441c8e",
    "colab": {
     "base_uri": "https://localhost:8080/",
     "height": 744
    },
    "deepnote_cell_height": 832,
    "deepnote_cell_type": "code",
    "deepnote_output_heights": [
     21,
     611
    ],
    "deepnote_to_be_reexecuted": true,
    "id": "XvMDQtKDEb0M",
    "outputId": "e9eb15bc-3310-4377-b868-35177af13c3c",
    "source_hash": "b4eecbcf"
   },
   "outputs": [
    {
     "data": {
      "text/plain": [
       "<Figure size 1440x864 with 0 Axes>"
      ]
     },
     "metadata": {},
     "output_type": "display_data"
    },
    {
     "data": {
      "image/png": "[encoded data removed]",
      "text/plain": [
       "<Figure size 720x720 with 20 Axes>"
      ]
     },
     "metadata": {},
     "output_type": "display_data"
    }
   ],
   "source": [
    "# Type of correlations \n",
    "plt.figure(figsize = (20, 12))\n",
    "num_cols = ['Sensor1_PM2.5',\t'Sensor2_PM2.5',\t'Temperature',\t'Relative_Humidity']\n",
    "sns.pairplot(train[num_cols], kind=\"scatter\", plot_kws=dict(s=80, edgecolor=\"white\", linewidth=2.5))\n",
    "plt.show()"
   ]
  },
  {
   "cell_type": "markdown",
   "metadata": {
    "cell_id": "00037-45ccac63-bc1f-46dc-a6db-ea755c8a0557",
    "deepnote_cell_height": 121.69999694824219,
    "deepnote_cell_type": "markdown",
    "id": "VdwD4SJEPRBB"
   },
   "source": [
    " - There is a positive correlation between Sensor1_PM2.5\tSensor2_PM2.5\n",
    " - There is a negative correlation between temperature and humidity\n",
    " - There seems to be no correlation between sensor PM2.5 and temperature/humidity"
   ]
  },
  {
   "cell_type": "code",
   "execution_count": 22,
   "metadata": {
    "cell_id": "00038-f9c3a576-ba2c-4adc-b326-926c813a91f7",
    "colab": {
     "base_uri": "https://localhost:8080/",
     "height": 581
    },
    "deepnote_cell_height": 736,
    "deepnote_cell_type": "code",
    "deepnote_output_heights": [
     549
    ],
    "deepnote_to_be_reexecuted": true,
    "id": "hUKo9oVKCQMm",
    "outputId": "c8d1e26c-ec20-4efd-de4d-688ef580a246",
    "source_hash": "9ed397b5"
   },
   "outputs": [
    {
     "data": {
      "image/png": "[encoded data removed]",
      "text/plain": [
       "<Figure size 936x576 with 2 Axes>"
      ]
     },
     "metadata": {},
     "output_type": "display_data"
    }
   ],
   "source": [
    "# Quantify correlations\n",
    "corr = train.corr()\n",
    "plt.figure(figsize = (13, 8))\n",
    "sns.heatmap(corr, cmap='RdYlGn', annot = True, center = 0)\n",
    "plt.title('Correlogram', fontsize = 15, color = 'darkgreen')\n",
    "plt.show()"
   ]
  },
  {
   "cell_type": "markdown",
   "metadata": {
    "cell_id": "00039-e42cb2e7-c19e-4c41-81b2-1ee5002675e4",
    "deepnote_cell_height": 95.80000305175781,
    "deepnote_cell_type": "markdown",
    "id": "dxifxALcP_p1"
   },
   "source": [
    "- There is a 0.96 positive correlation between sensor1 PM2.5 and sensor2 PM2.5\n",
    "- There is a -0.99 negative correlation between temperature and humidity"
   ]
  },
  {
   "cell_type": "markdown",
   "metadata": {
    "cell_id": "00040-4546a08b-727d-4b10-9c80-965446a3e899",
    "deepnote_cell_height": 84,
    "deepnote_cell_type": "markdown",
    "id": "0b2HJYzArroH"
   },
   "source": [
    "<a name=\"Preprocess\"></a>\n",
    "## 9.  Preprocess test dataset"
   ]
  },
  {
   "cell_type": "code",
   "execution_count": 23,
   "metadata": {
    "cell_id": "00041-4722716f-46f0-4f0e-ad70-9f547d23bc54",
    "deepnote_cell_height": 81,
    "deepnote_cell_type": "code",
    "deepnote_to_be_reexecuted": true,
    "pycharm": {
     "name": "#%%\n"
    },
    "source_hash": "25aca962"
   },
   "outputs": [],
   "source": [
    "# test"
   ]
  },
  {
   "cell_type": "code",
   "execution_count": 24,
   "metadata": {
    "cell_id": "00042-1a21956b-65db-4909-bf65-4619f879fa60",
    "deepnote_cell_height": 213,
    "deepnote_cell_type": "code",
    "deepnote_output_heights": [
     98
    ],
    "deepnote_to_be_reexecuted": true,
    "pycharm": {
     "name": "#%%\n"
    },
    "source_hash": "3bcb7646"
   },
   "outputs": [
    {
     "data": {
      "text/plain": [
       "Index(['ID', 'Datetime', 'Sensor1_PM2.5', 'Sensor2_PM2.5', 'Temperature',\n",
       "       'Relative_Humidity', 'Datetime_day', 'Datetime_month', 'Datetime_year',\n",
       "       'Datetime_hour', 'Datetime_dayofweek', 'Datetime_weekofyear',\n",
       "       'Temperature_mean', 'Relative_Humidity_mean'],\n",
       "      dtype='object')"
      ]
     },
     "execution_count": 24,
     "metadata": {},
     "output_type": "execute_result"
    }
   ],
   "source": [
    "# replace above by dropping Temperature and relative humidity\n",
    "test.columns"
   ]
  },
  {
   "cell_type": "code",
   "execution_count": 25,
   "metadata": {
    "cell_id": "00043-996f5de0-4f1c-4a84-b9dd-e1add227d6e5",
    "deepnote_cell_height": 536.4000244140625,
    "deepnote_cell_type": "code",
    "deepnote_to_be_reexecuted": true,
    "pycharm": {
     "name": "#%%\n"
    },
    "source_hash": "fea28bdd"
   },
   "outputs": [
    {
     "name": "stdout",
     "output_type": "stream",
     "text": [
      "<class 'pandas.core.frame.DataFrame'>\n",
      "RangeIndex: 297177 entries, 0 to 297176\n",
      "Data columns (total 15 columns):\n",
      " #   Column                  Non-Null Count   Dtype         \n",
      "---  ------                  --------------   -----         \n",
      " 0   ID                      297177 non-null  object        \n",
      " 1   Datetime                297177 non-null  datetime64[ns]\n",
      " 2   Sensor1_PM2.5           297177 non-null  float64       \n",
      " 3   Sensor2_PM2.5           297177 non-null  float64       \n",
      " 4   Temperature             297177 non-null  float64       \n",
      " 5   Relative_Humidity       297177 non-null  float64       \n",
      " 6   Offset_fault            297177 non-null  int64         \n",
      " 7   Datetime_day            297177 non-null  int64         \n",
      " 8   Datetime_month          297177 non-null  int64         \n",
      " 9   Datetime_year           297177 non-null  int64         \n",
      " 10  Datetime_hour           297177 non-null  int64         \n",
      " 11  Datetime_dayofweek      297177 non-null  int64         \n",
      " 12  Datetime_weekofyear     297177 non-null  int64         \n",
      " 13  Temperature_mean        297177 non-null  float64       \n",
      " 14  Relative_Humidity_mean  297177 non-null  float64       \n",
      "dtypes: datetime64[ns](1), float64(6), int64(7), object(1)\n",
      "memory usage: 34.0+ MB\n"
     ]
    }
   ],
   "source": [
    "train.info()"
   ]
  },
  {
   "cell_type": "markdown",
   "metadata": {
    "cell_id": "00044-c3699f87-ce28-4db4-bd91-434b2ce5e1bf",
    "deepnote_cell_height": 84,
    "deepnote_cell_type": "markdown",
    "id": "2gIDFBaMs8fk"
   },
   "source": [
    "<a name=\"Modelling\"></a>\n",
    "## 10.  Modelling"
   ]
  },
  {
   "cell_type": "code",
   "execution_count": 26,
   "metadata": {
    "cell_id": "00045-bd05502d-9356-4914-a1b9-c2e250906daf",
    "deepnote_cell_height": 225,
    "deepnote_cell_type": "code",
    "deepnote_to_be_reexecuted": true,
    "pycharm": {
     "name": "#%%\n"
    },
    "source_hash": "fd10c782"
   },
   "outputs": [],
   "source": [
    "# Selecting the independent variables and the target variable\n",
    "train_feats = ['Sensor1_PM2.5',\t'Sensor2_PM2.5', 'Datetime_hour', 'Datetime_dayofweek', 'Temperature', 'Relative_Humidity']\n",
    "\n",
    "X = train[train_feats]\n",
    "y = train.Offset_fault\n",
    "\n",
    "#test_df = test[train_feats]\n",
    "\n",
    "\n",
    "# dealing with imbalanced data\n",
    "# X, y = SMOTE().fit_resample(X, y)\n",
    "X_test=test[train_feats]\n",
    "\n",
    "#y_test=samplesubmission[['Offset_fault']]\n",
    "y_test=samplesubmission.Offset_fault"
   ]
  },
  {
   "cell_type": "code",
   "execution_count": 27,
   "metadata": {
    "cell_id": "00046-86a98bbc-fac7-4eaf-a406-16b4140abe93",
    "colab": {
     "base_uri": "https://localhost:8080/"
    },
    "deepnote_cell_height": 766.4000244140625,
    "deepnote_cell_type": "code",
    "deepnote_to_be_reexecuted": true,
    "id": "e3cCJUM2s4Q5",
    "outputId": "ca20a8f7-77f9-4f92-b257-5c4bb89f954a",
    "scrolled": false,
    "source_hash": "fea12361"
   },
   "outputs": [
    {
     "name": "stdout",
     "output_type": "stream",
     "text": [
      "Accuracy score: 0.7580970626800984\n",
      "\n",
      "\n",
      "              precision    recall  f1-score   support\n",
      "\n",
      "           0       1.00      0.76      0.86    127361\n",
      "           1       0.00      0.00      0.00         0\n",
      "\n",
      "    accuracy                           0.76    127361\n",
      "   macro avg       0.50      0.38      0.43    127361\n",
      "weighted avg       1.00      0.76      0.86    127361\n",
      "\n"
     ]
    }
   ],
   "source": [
    "\n",
    "\n",
    "# X = X.drop(['Temperature', 'Relative_Humidity'])\n",
    "\n",
    "# Splitting the data into training and testing sets\n",
    "#X_train, X_test, y_train, y_test = train_test_split(X, y, test_size = 0.4, random_state = 0)\n",
    "\n",
    "#RFC\n",
    "#clf = RandomForestClassifier(n_estimators=10, criterion='gini', max_depth=None,min_samples_split=2, min_samples_leaf=1, min_weight_fraction_leaf=0.0, max_features='auto', max_leaf_nodes=None,bootstrap=True, oob_score=False, n_jobs=1, random_state=None, verbose=0, warm_start=False,class_weight=None)\n",
    "\n",
    "#clf.fit(X_train, y_train)\n",
    "\n",
    "#Logistic Regression\n",
    "#clf = LogisticRegression(class_weight = 'balanced')\n",
    "#clf.fit(X_train, y_train)\n",
    "\n",
    "# Catboost\n",
    "#clf = CatBoostClassifier(iterations = 1000, learning_rate = 0.1, depth = 3, loss_function = 'Logloss', random_seed = 0)\n",
    "#clf.fit(X, y)\n",
    "#GBC\n",
    "from sklearn.ensemble import GradientBoostingClassifier\n",
    "# clf = GradientBoostingClassifier(n_estimators=100, learning_rate=1.0, max_depth=1, random_state=0)\n",
    "# clf.fit(X, y)\n",
    "\n",
    "#xgboost\n",
    "# import xgboost\n",
    "# from xgboost import XGBClassifier\n",
    "# clf = XGBClassifier()\n",
    "# clf.fit(X, y)\n",
    "# #lgb\n",
    "\n",
    "\n",
    "#dtree = DecisionTreeClassifier()\n",
    "#clf = AdaBoostClassifier(n_estimators=100, base_estimator=dtree,learning_rate=1)\n",
    "\n",
    "#n_estimators is set to a \"large value\". The actual number of trees build will depend on early stopping and 5000 define only the absolute maximum\n",
    "clf = lgb.LGBMClassifier(max_bin=100)\n",
    "clf.fit(X,y)\n",
    "\n",
    "#Define the parameters\n",
    "\n",
    "#clf.get_params()\n",
    "\n",
    "\n",
    "# clf = CatBoostClassifier(\n",
    "#     iterations=5, \n",
    "#     learning_rate=0.1, \n",
    "#     #loss_function='CrossEntropy'\n",
    "# )\n",
    "\n",
    "\n",
    "# clf.fit(X_train, y_train, \n",
    "#         verbose=False\n",
    "# )\n",
    "\n",
    "\n",
    "\n",
    "#clf.fit(X_train,y_train,verbose=20,eval_metric='logloss')\n",
    "# # Making predictions\n",
    "y_pred = clf.predict(X_test)\n",
    "\n",
    "\n",
    "#Measuring the accuracy of the model\n",
    "print(f'Accuracy score: {accuracy_score(y_test, y_pred)}')\n",
    "print('\\n')\n",
    "print(f'{classification_report(y_test, y_pred)}')"
   ]
  },
  {
   "cell_type": "code",
   "execution_count": 28,
   "metadata": {
    "cell_id": "00047-010574dd-db6c-4dff-8d35-c5fbc70c3c2b",
    "deepnote_cell_height": 81,
    "deepnote_cell_type": "code",
    "deepnote_to_be_reexecuted": true,
    "pycharm": {
     "name": "#%%\n"
    },
    "source_hash": "b709b81d"
   },
   "outputs": [],
   "source": [
    "# X.shape, y.shape"
   ]
  },
  {
   "cell_type": "code",
   "execution_count": 29,
   "metadata": {
    "cell_id": "00048-915fc99b-6e4d-4d07-9945-865c5cd13aad",
    "colab": {
     "base_uri": "https://localhost:8080/",
     "height": 442
    },
    "deepnote_cell_height": 612,
    "deepnote_cell_type": "code",
    "deepnote_output_heights": [
     425
    ],
    "deepnote_to_be_reexecuted": true,
    "id": "HBOYZhh0JE9L",
    "outputId": "1e000383-ae70-4fdf-9eed-f5b14192687c",
    "source_hash": "3e61079b"
   },
   "outputs": [
    {
     "data": {
      "image/png": "[encoded data removed]",
      "text/plain": [
       "<Figure size 1080x504 with 2 Axes>"
      ]
     },
     "metadata": {},
     "output_type": "display_data"
    }
   ],
   "source": [
    "# # Confusion matrix\n",
    "cm = confusion_matrix(y_test, y_pred, labels=clf.classes_)\n",
    "disp = ConfusionMatrixDisplay(confusion_matrix=cm, display_labels=clf.classes_)\n",
    "fig, ax = plt.subplots(figsize=(15,7))\n",
    "disp.plot(ax=ax)\n",
    "plt.show()\n"
   ]
  },
  {
   "cell_type": "code",
   "execution_count": 30,
   "metadata": {
    "cell_id": "00049-b109de73-7430-4d20-bba0-401b2be97b18",
    "colab": {
     "base_uri": "https://localhost:8080/",
     "height": 626
    },
    "deepnote_cell_height": 207,
    "deepnote_cell_type": "code",
    "deepnote_to_be_reexecuted": true,
    "id": "zuFxPcaNHBQM",
    "outputId": "099f5725-2017-4662-9ba4-7092fe3e9bed",
    "source_hash": "45f82c7f"
   },
   "outputs": [
    {
     "data": {
      "image/png": "[encoded data removed]",
      "text/plain": [
       "<Figure size 720x720 with 1 Axes>"
      ]
     },
     "metadata": {},
     "output_type": "display_data"
    }
   ],
   "source": [
    "# Feature importance\n",
    "impo_df = pd.DataFrame({'feature': X.columns, 'importance': clf.feature_importances_}).set_index('feature').sort_values(by = 'importance', ascending = False)\n",
    "impo_df = impo_df[:12].sort_values(by = 'importance', ascending = True)\n",
    "impo_df.plot(kind = 'barh', figsize = (10, 10), color = 'purple')\n",
    "plt.legend(loc = 'center right')\n",
    "plt.title('Bar chart showing feature importance', color = 'indigo', fontsize = 14)\n",
    "plt.xlabel('Features', fontsize = 12, color = 'indigo')\n",
    "plt.show()"
   ]
  },
  {
   "cell_type": "markdown",
   "metadata": {
    "cell_id": "00050-2603d070-09ee-4c1f-9d3a-872fadbb0ac4",
    "deepnote_cell_height": 46,
    "deepnote_cell_type": "markdown",
    "pycharm": {
     "name": "#%% md\n"
    }
   },
   "source": []
  },
  {
   "cell_type": "markdown",
   "metadata": {
    "cell_id": "00051-c1d71dc0-db46-4c6c-9ffb-6acca6e55479",
    "deepnote_cell_height": 82,
    "deepnote_cell_type": "markdown"
   },
   "source": [
    "# Train with all data"
   ]
  },
  {
   "cell_type": "code",
   "execution_count": 31,
   "metadata": {},
   "outputs": [
    {
     "data": {
      "text/plain": [
       "(127361,)"
      ]
     },
     "execution_count": 31,
     "metadata": {},
     "output_type": "execute_result"
    }
   ],
   "source": [
    "samplesubmission['Offset_fault'].shape"
   ]
  },
  {
   "cell_type": "code",
   "execution_count": 32,
   "metadata": {},
   "outputs": [
    {
     "data": {
      "text/html": [
       "<div>\n",
       "<style scoped>\n",
       "    .dataframe tbody tr th:only-of-type {\n",
       "        vertical-align: middle;\n",
       "    }\n",
       "\n",
       "    .dataframe tbody tr th {\n",
       "        vertical-align: top;\n",
       "    }\n",
       "\n",
       "    .dataframe thead th {\n",
       "        text-align: right;\n",
       "    }\n",
       "</style>\n",
       "<table border=\"1\" class=\"dataframe\">\n",
       "  <thead>\n",
       "    <tr style=\"text-align: right;\">\n",
       "      <th></th>\n",
       "      <th>ID</th>\n",
       "      <th>Offset_fault</th>\n",
       "    </tr>\n",
       "  </thead>\n",
       "  <tbody>\n",
       "    <tr>\n",
       "      <th>0</th>\n",
       "      <td>ID_STL3V9B2OU12</td>\n",
       "      <td>0</td>\n",
       "    </tr>\n",
       "    <tr>\n",
       "      <th>1</th>\n",
       "      <td>ID_U2EKAY4SGA94</td>\n",
       "      <td>0</td>\n",
       "    </tr>\n",
       "    <tr>\n",
       "      <th>2</th>\n",
       "      <td>ID_UJFLEWQR0U4N</td>\n",
       "      <td>0</td>\n",
       "    </tr>\n",
       "    <tr>\n",
       "      <th>3</th>\n",
       "      <td>ID_S2C2GPGA4R5I</td>\n",
       "      <td>0</td>\n",
       "    </tr>\n",
       "    <tr>\n",
       "      <th>4</th>\n",
       "      <td>ID_5V2C2ZL221H8</td>\n",
       "      <td>1</td>\n",
       "    </tr>\n",
       "    <tr>\n",
       "      <th>...</th>\n",
       "      <td>...</td>\n",
       "      <td>...</td>\n",
       "    </tr>\n",
       "    <tr>\n",
       "      <th>127356</th>\n",
       "      <td>ID_HNCS9Q2GNCQB</td>\n",
       "      <td>0</td>\n",
       "    </tr>\n",
       "    <tr>\n",
       "      <th>127357</th>\n",
       "      <td>ID_GIIQYTE11L3H</td>\n",
       "      <td>1</td>\n",
       "    </tr>\n",
       "    <tr>\n",
       "      <th>127358</th>\n",
       "      <td>ID_EC7F1P4GXKCL</td>\n",
       "      <td>0</td>\n",
       "    </tr>\n",
       "    <tr>\n",
       "      <th>127359</th>\n",
       "      <td>ID_J64RVG2BRAG0</td>\n",
       "      <td>0</td>\n",
       "    </tr>\n",
       "    <tr>\n",
       "      <th>127360</th>\n",
       "      <td>ID_7ABZNHCIVVAV</td>\n",
       "      <td>0</td>\n",
       "    </tr>\n",
       "  </tbody>\n",
       "</table>\n",
       "<p>127361 rows × 2 columns</p>\n",
       "</div>"
      ],
      "text/plain": [
       "                     ID  Offset_fault\n",
       "0       ID_STL3V9B2OU12             0\n",
       "1       ID_U2EKAY4SGA94             0\n",
       "2       ID_UJFLEWQR0U4N             0\n",
       "3       ID_S2C2GPGA4R5I             0\n",
       "4       ID_5V2C2ZL221H8             1\n",
       "...                 ...           ...\n",
       "127356  ID_HNCS9Q2GNCQB             0\n",
       "127357  ID_GIIQYTE11L3H             1\n",
       "127358  ID_EC7F1P4GXKCL             0\n",
       "127359  ID_J64RVG2BRAG0             0\n",
       "127360  ID_7ABZNHCIVVAV             0\n",
       "\n",
       "[127361 rows x 2 columns]"
      ]
     },
     "execution_count": 32,
     "metadata": {},
     "output_type": "execute_result"
    }
   ],
   "source": [
    "sub_file = samplesubmission.copy()\n",
    "sub_file.Offset_fault = y_pred\n",
    "sub_file\n",
    "# Check the distribution of your predictions\n",
    "# plt.figure(figsize=(8, 5))\n",
    "# sns.countplot(sub_file.Offset_fault)\n",
    "# plt.title('Predictions Data Distribution');"
   ]
  },
  {
   "cell_type": "code",
   "execution_count": 33,
   "metadata": {
    "cell_id": "00052-df8c15d9-39da-4ada-b364-07ca734518a0",
    "deepnote_cell_height": 244,
    "deepnote_cell_type": "code",
    "deepnote_output_heights": [
     21
    ],
    "deepnote_to_be_reexecuted": true,
    "pycharm": {
     "name": "#%%\n"
    },
    "source_hash": "75dfd799"
   },
   "outputs": [],
   "source": [
    "# #Instantiating the model\n",
    "# # clf = RandomForestClassifier(max_depth = 3, random_state = 0)\n",
    "# clf = lgb.LGBMClassifier(max_depth=2, random_state=10, silent=True, n_jobs=4, n_estimators=100)\n",
    "# clf.fit(X,y)\n",
    "# # # better to predict & submit with the whole data\n",
    "# # clf.fit(X, y)\n",
    "\n",
    "# # clf = LogisticRegression(class_weight = 'balanced')\n",
    "# # clf.fit(X, y)"
   ]
  },
  {
   "cell_type": "code",
   "execution_count": 34,
   "metadata": {},
   "outputs": [],
   "source": [
    "# print(f'Accuracy score: {accuracy_score(y_test, y_pred)}')\n",
    "# print('\\n')\n",
    "# print(f'{classification_report(y_test, y_pred)}')"
   ]
  },
  {
   "cell_type": "markdown",
   "metadata": {
    "cell_id": "00053-43965c75-682f-4976-9910-a65fadf2d05c",
    "deepnote_cell_height": 124,
    "deepnote_cell_type": "markdown",
    "id": "7UuShmECwAbL"
   },
   "source": [
    "<a name=\"Predictions\"></a>\n",
    "## 11. Making predictions of the test set and creating a submission file"
   ]
  },
  {
   "cell_type": "code",
   "execution_count": 35,
   "metadata": {
    "cell_id": "00054-d629f393-b0a3-4507-abf0-e30990bee2fc",
    "colab": {
     "base_uri": "https://localhost:8080/",
     "height": 351
    },
    "deepnote_cell_height": 644,
    "deepnote_cell_type": "code",
    "deepnote_output_heights": [
     331
    ],
    "deepnote_to_be_reexecuted": true,
    "id": "xJo1lD5cs4MM",
    "outputId": "1c20a57d-a87b-46f9-fe2f-a43d54debc4a",
    "source_hash": "ff4524c"
   },
   "outputs": [],
   "source": [
    "# Make prediction on the test set\n",
    "# test_feats = ['Sensor1_PM2.5',\t'Sensor2_PM2.5', 'Datetime_day', 'Datetime_month', 'Datetime_year', 'Datetime_hour', 'Datetime_dayofweek', 'Datetime_weekofyear']\n",
    "# test_df = test[train_feats]\n",
    "# predictions = clf.predict(test_df)\n",
    "\n",
    "# # # Create a submission file\n",
    "# sub_file = samplesubmission.copy()\n",
    "# sub_file.Offset_fault = predictions\n",
    "\n",
    "# # Check the distribution of your predictions\n",
    "# plt.figure(figsize=(8, 5))\n",
    "# sns.countplot(sub_file.Offset_fault)\n",
    "# plt.title('Predictions Data Distribution');"
   ]
  },
  {
   "cell_type": "markdown",
   "metadata": {
    "cell_id": "00055-9be6145d-c27f-4d80-8299-1359df22d684",
    "deepnote_cell_height": 69.89999389648438,
    "deepnote_cell_type": "markdown",
    "id": "qTjjKQchqRVq"
   },
   "source": [
    " - Majority of the model predictions are 0"
   ]
  },
  {
   "cell_type": "code",
   "execution_count": 36,
   "metadata": {
    "cell_id": "00056-6eec0917-84bf-45c8-81f4-2017bbe898a5",
    "deepnote_cell_height": 99,
    "deepnote_cell_type": "code",
    "deepnote_to_be_reexecuted": true,
    "pycharm": {
     "name": "#%%\n"
    },
    "source_hash": "63b930a3"
   },
   "outputs": [],
   "source": [
    "# weighting imbalanced class\n",
    "# clf = RandomForestClassifier(max_depth = 3, random_state = 0, class_weight = 'balanced')"
   ]
  },
  {
   "cell_type": "code",
   "execution_count": 37,
   "metadata": {
    "cell_id": "00057-8328de7e-2f92-490f-adc1-f5cbe8f4d23c",
    "deepnote_cell_height": 99,
    "deepnote_cell_type": "code",
    "deepnote_to_be_reexecuted": true,
    "id": "OvzrU6nms4Jw",
    "source_hash": "9d5e254d"
   },
   "outputs": [],
   "source": [
    "# Create file\n",
    "sub_file.to_csv('Baseline4.csv', index = False)"
   ]
  },
  {
   "cell_type": "markdown",
   "metadata": {
    "cell_id": "00058-86ad5e8d-69ee-46a7-9563-3a979ccd2213",
    "deepnote_cell_height": 204.39999389648438,
    "deepnote_cell_type": "markdown",
    "id": "QKXXj1Yh4-ZK"
   },
   "source": [
    "<a name=\"Tips\"></a>\n",
    "##12. TO DOs\n",
    "\n",
    "1. Generate more features, you can work on aggregating the columns( e.g mean temperature , mean humidity  etc)\n",
    "2. For the datetime you can generate more features, day of the week, week of the year ...\n",
    "3. Perform more EDA to get a better Understanding of the data, \n",
    "4. Try other classifier models\n",
    "5. Experiment with different startegies of handling the missing values\n",
    "\n",
    "\n"
   ]
  },
  {
   "cell_type": "markdown",
   "metadata": {
    "cell_id": "00059-51c70fa5-5dee-4a3c-96c5-0355e81090f9",
    "deepnote_cell_height": 70,
    "deepnote_cell_type": "markdown",
    "id": "k_BBwmW05HAR"
   },
   "source": [
    "## ALL THE BEST! "
   ]
  },
  {
   "cell_type": "markdown",
   "metadata": {
    "created_in_deepnote_cell": true,
    "deepnote_cell_type": "markdown",
    "tags": []
   },
   "source": [
    "<a style='text-decoration:none;line-height:16px;display:flex;color:#5B5B62;padding:10px;justify-content:end;' href='https://deepnote.com?utm_source=created-in-deepnote-cell&projectId=e6d0b8a1-b468-4ef6-a278-0f7c6b054962' target=\"_blank\">\n",
    "<img alt='Created in deepnote.com' style='display:inline;max-height:16px;margin:0px;margin-right:7.5px;' src='data:image/svg+xml;base64,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' > </img>\n",
    "Created in <span style='font-weight:600;margin-left:4px;'>Deepnote</span></a>"
   ]
  },
  {
   "cell_type": "code",
   "execution_count": null,
   "metadata": {},
   "outputs": [],
   "source": []
  }
 ],
 "metadata": {
  "colab": {
   "collapsed_sections": [],
   "name": "Airqo_starternotebook.ipynb",
   "provenance": []
  },
  "deepnote": {},
  "deepnote_execution_queue": [],
  "deepnote_notebook_id": "3ecfbe66-d701-469a-ba83-8465ca58f647",
  "kernelspec": {
   "display_name": "Python 3",
   "language": "python",
   "name": "python3"
  },
  "language_info": {
   "codemirror_mode": {
    "name": "ipython",
    "version": 3
   },
   "file_extension": ".py",
   "mimetype": "text/x-python",
   "name": "python",
   "nbconvert_exporter": "python",
   "pygments_lexer": "ipython3",
   "version": "3.8.8"
  }
 },
 "nbformat": 4,
 "nbformat_minor": 1
}
